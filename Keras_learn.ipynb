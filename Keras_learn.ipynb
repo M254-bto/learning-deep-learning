{
  "nbformat": 4,
  "nbformat_minor": 0,
  "metadata": {
    "colab": {
      "provenance": [],
      "authorship_tag": "ABX9TyPeForr/niD4iIxSAbp4Fo/",
      "include_colab_link": true
    },
    "kernelspec": {
      "name": "python3",
      "display_name": "Python 3"
    },
    "language_info": {
      "name": "python"
    }
  },
  "cells": [
    {
      "cell_type": "markdown",
      "metadata": {
        "id": "view-in-github",
        "colab_type": "text"
      },
      "source": [
        "<a href=\"https://colab.research.google.com/github/M254-bto/learning-deep-learning/blob/main/Keras_learn.ipynb\" target=\"_parent\"><img src=\"https://colab.research.google.com/assets/colab-badge.svg\" alt=\"Open In Colab\"/></a>"
      ]
    },
    {
      "cell_type": "code",
      "execution_count": null,
      "metadata": {
        "id": "lkMR5Fo7N-Ej"
      },
      "outputs": [],
      "source": [
        " import tensorflow as tf\n",
        "from tensorflow import keras\n",
        "from sklearn.preprocessing import MinMaxScaler\n",
        "from random import randint\n",
        "import numpy as np\n",
        "import pandas as pd\n",
        "from sklearn.utils import shuffle"
      ]
    },
    {
      "cell_type": "code",
      "source": [
        "from tensorflow.keras.models import Sequential\n",
        "from tensorflow.keras.layers import Dense, Activation\n",
        "from tensorflow.keras.optimizers import Adam\n",
        "from tensorflow.keras.metrics import categorical_crossentropy"
      ],
      "metadata": {
        "id": "_95YcCRB2w24"
      },
      "execution_count": null,
      "outputs": []
    },
    {
      "cell_type": "code",
      "source": [
        "X_train = []\n",
        "y_train = []"
      ],
      "metadata": {
        "id": "x0hDmRpsvZoD"
      },
      "execution_count": null,
      "outputs": []
    },
    {
      "cell_type": "code",
      "source": [
        "for i in range(50):\n",
        "  X_train.append(randint(13, 64))\n",
        "  y_train.append(1)\n",
        "\n",
        "  X_train.append(randint(65, 100))\n",
        "  y_train.append(0)\n"
      ],
      "metadata": {
        "id": "AdTFn31Zv3CV"
      },
      "execution_count": null,
      "outputs": []
    },
    {
      "cell_type": "code",
      "source": [
        "for i in range(1000):\n",
        "  X_train.append(randint(13, 64))\n",
        "  y_train.append(0)\n",
        "\n",
        "  X_train.append(randint(65, 100))\n",
        "  y_train.append(1)\n"
      ],
      "metadata": {
        "id": "Ca1xmecRwcWk"
      },
      "execution_count": null,
      "outputs": []
    },
    {
      "cell_type": "code",
      "source": [
        "X_train = np.array(X_train)\n",
        "y_train = np.array(y_train)\n",
        "X_train, y_train = shuffle(X_train, y_train)"
      ],
      "metadata": {
        "id": "E3RqZXJgwt7C"
      },
      "execution_count": null,
      "outputs": []
    },
    {
      "cell_type": "code",
      "source": [
        "scaler = MinMaxScaler(feature_range=(0, 1))\n",
        "X_train_scaled = scaler.fit_transform(X_train.reshape(-1, 1))"
      ],
      "metadata": {
        "id": "zFd0PywOzc9K"
      },
      "execution_count": null,
      "outputs": []
    },
    {
      "cell_type": "code",
      "source": [
        "X_train_scaled"
      ],
      "metadata": {
        "colab": {
          "base_uri": "https://localhost:8080/"
        },
        "id": "th_1SK6g0Se5",
        "outputId": "718714e5-730e-4106-a03b-c67ef16d4389"
      },
      "execution_count": null,
      "outputs": [
        {
          "output_type": "execute_result",
          "data": {
            "text/plain": [
              "array([[0.70114943],\n",
              "       [0.05747126],\n",
              "       [0.28735632],\n",
              "       ...,\n",
              "       [0.90804598],\n",
              "       [0.37931034],\n",
              "       [0.90804598]])"
            ]
          },
          "metadata": {},
          "execution_count": 8
        }
      ]
    },
    {
      "cell_type": "code",
      "source": [
        "model = Sequential(\n",
        "    [\n",
        "        Dense(16, activation=\"sigmoid\",input_shape=(1,), name=\"layer1\"),\n",
        "        Dense(20, activation=\"sigmoid\", name=\"layer2\"),\n",
        "        Dense(20, activation=\"sigmoid\", name=\"layer3\"),\n",
        "        Dense(2, activation='softmax', name=\"layer4\"),\n",
        "    ]\n",
        ")"
      ],
      "metadata": {
        "id": "naIY-wq40dMq"
      },
      "execution_count": null,
      "outputs": []
    },
    {
      "cell_type": "code",
      "source": [
        "model.summary()"
      ],
      "metadata": {
        "colab": {
          "base_uri": "https://localhost:8080/"
        },
        "id": "ZgM8iPLE32yu",
        "outputId": "fb0269d7-b1d3-4a46-dd6d-4c679e10508c"
      },
      "execution_count": null,
      "outputs": [
        {
          "output_type": "stream",
          "name": "stdout",
          "text": [
            "Model: \"sequential\"\n",
            "_________________________________________________________________\n",
            " Layer (type)                Output Shape              Param #   \n",
            "=================================================================\n",
            " layer1 (Dense)              (None, 16)                32        \n",
            "                                                                 \n",
            " layer2 (Dense)              (None, 20)                340       \n",
            "                                                                 \n",
            " layer3 (Dense)              (None, 20)                420       \n",
            "                                                                 \n",
            " layer4 (Dense)              (None, 2)                 42        \n",
            "                                                                 \n",
            "=================================================================\n",
            "Total params: 834\n",
            "Trainable params: 834\n",
            "Non-trainable params: 0\n",
            "_________________________________________________________________\n"
          ]
        }
      ]
    },
    {
      "cell_type": "code",
      "source": [
        "model.compile(optimizer=Adam(learning_rate=0.0001), loss='sparse_categorical_crossentropy', metrics=['accuracy'])"
      ],
      "metadata": {
        "id": "ho53c7UT4CKM"
      },
      "execution_count": null,
      "outputs": []
    },
    {
      "cell_type": "code",
      "source": [
        "model.fit(X_train_scaled, y_train, batch_size=5, epochs=30, validation_split=0.1, shuffle=True)"
      ],
      "metadata": {
        "colab": {
          "base_uri": "https://localhost:8080/"
        },
        "id": "-ucALWhn8P7I",
        "outputId": "2783aa55-ccc9-4d98-da39-40cb38395139"
      },
      "execution_count": null,
      "outputs": [
        {
          "output_type": "stream",
          "name": "stdout",
          "text": [
            "Epoch 1/30\n",
            "378/378 [==============================] - 2s 3ms/step - loss: 0.8403 - accuracy: 0.5000 - val_loss: 0.7377 - val_accuracy: 0.5000\n",
            "Epoch 2/30\n",
            "378/378 [==============================] - 1s 2ms/step - loss: 0.7116 - accuracy: 0.5000 - val_loss: 0.6984 - val_accuracy: 0.5000\n",
            "Epoch 3/30\n",
            "378/378 [==============================] - 1s 2ms/step - loss: 0.6961 - accuracy: 0.5000 - val_loss: 0.6946 - val_accuracy: 0.5000\n",
            "Epoch 4/30\n",
            "378/378 [==============================] - 1s 2ms/step - loss: 0.6944 - accuracy: 0.4937 - val_loss: 0.6938 - val_accuracy: 0.5000\n",
            "Epoch 5/30\n",
            "378/378 [==============================] - 1s 3ms/step - loss: 0.6941 - accuracy: 0.4582 - val_loss: 0.6934 - val_accuracy: 0.5000\n",
            "Epoch 6/30\n",
            "378/378 [==============================] - 1s 4ms/step - loss: 0.6937 - accuracy: 0.4921 - val_loss: 0.6931 - val_accuracy: 0.5000\n",
            "Epoch 7/30\n",
            "378/378 [==============================] - 1s 4ms/step - loss: 0.6932 - accuracy: 0.4989 - val_loss: 0.6927 - val_accuracy: 0.5000\n",
            "Epoch 8/30\n",
            "378/378 [==============================] - 2s 5ms/step - loss: 0.6927 - accuracy: 0.5058 - val_loss: 0.6923 - val_accuracy: 0.5000\n",
            "Epoch 9/30\n",
            "378/378 [==============================] - 2s 4ms/step - loss: 0.6922 - accuracy: 0.5275 - val_loss: 0.6919 - val_accuracy: 0.5000\n",
            "Epoch 10/30\n",
            "378/378 [==============================] - 2s 5ms/step - loss: 0.6917 - accuracy: 0.5566 - val_loss: 0.6913 - val_accuracy: 0.7190\n",
            "Epoch 11/30\n",
            "378/378 [==============================] - 2s 5ms/step - loss: 0.6912 - accuracy: 0.6524 - val_loss: 0.6908 - val_accuracy: 0.8048\n",
            "Epoch 12/30\n",
            "378/378 [==============================] - 2s 5ms/step - loss: 0.6907 - accuracy: 0.6238 - val_loss: 0.6902 - val_accuracy: 0.6476\n",
            "Epoch 13/30\n",
            "378/378 [==============================] - 2s 4ms/step - loss: 0.6900 - accuracy: 0.5714 - val_loss: 0.6895 - val_accuracy: 0.9238\n",
            "Epoch 14/30\n",
            "378/378 [==============================] - 1s 2ms/step - loss: 0.6891 - accuracy: 0.6201 - val_loss: 0.6888 - val_accuracy: 0.8190\n",
            "Epoch 15/30\n",
            "378/378 [==============================] - 1s 2ms/step - loss: 0.6884 - accuracy: 0.6831 - val_loss: 0.6879 - val_accuracy: 0.7810\n",
            "Epoch 16/30\n",
            "378/378 [==============================] - 1s 2ms/step - loss: 0.6874 - accuracy: 0.6714 - val_loss: 0.6870 - val_accuracy: 0.8857\n",
            "Epoch 17/30\n",
            "378/378 [==============================] - 1s 2ms/step - loss: 0.6864 - accuracy: 0.7418 - val_loss: 0.6859 - val_accuracy: 0.8095\n",
            "Epoch 18/30\n",
            "378/378 [==============================] - 1s 2ms/step - loss: 0.6852 - accuracy: 0.7127 - val_loss: 0.6849 - val_accuracy: 0.6381\n",
            "Epoch 19/30\n",
            "378/378 [==============================] - 1s 2ms/step - loss: 0.6838 - accuracy: 0.7910 - val_loss: 0.6835 - val_accuracy: 0.7190\n",
            "Epoch 20/30\n",
            "378/378 [==============================] - 1s 2ms/step - loss: 0.6823 - accuracy: 0.6958 - val_loss: 0.6821 - val_accuracy: 0.6238\n",
            "Epoch 21/30\n",
            "378/378 [==============================] - 1s 2ms/step - loss: 0.6808 - accuracy: 0.7926 - val_loss: 0.6802 - val_accuracy: 0.8571\n",
            "Epoch 22/30\n",
            "378/378 [==============================] - 1s 2ms/step - loss: 0.6787 - accuracy: 0.7825 - val_loss: 0.6783 - val_accuracy: 0.7429\n",
            "Epoch 23/30\n",
            "378/378 [==============================] - 1s 2ms/step - loss: 0.6762 - accuracy: 0.8667 - val_loss: 0.6760 - val_accuracy: 0.8095\n",
            "Epoch 24/30\n",
            "378/378 [==============================] - 1s 2ms/step - loss: 0.6737 - accuracy: 0.7772 - val_loss: 0.6733 - val_accuracy: 0.9286\n",
            "Epoch 25/30\n",
            "378/378 [==============================] - 1s 2ms/step - loss: 0.6708 - accuracy: 0.8841 - val_loss: 0.6703 - val_accuracy: 0.9381\n",
            "Epoch 26/30\n",
            "378/378 [==============================] - 1s 2ms/step - loss: 0.6674 - accuracy: 0.9032 - val_loss: 0.6668 - val_accuracy: 0.9000\n",
            "Epoch 27/30\n",
            "378/378 [==============================] - 1s 2ms/step - loss: 0.6635 - accuracy: 0.8323 - val_loss: 0.6630 - val_accuracy: 0.8476\n",
            "Epoch 28/30\n",
            "378/378 [==============================] - 1s 2ms/step - loss: 0.6590 - accuracy: 0.8450 - val_loss: 0.6585 - val_accuracy: 0.9429\n",
            "Epoch 29/30\n",
            "378/378 [==============================] - 1s 2ms/step - loss: 0.6541 - accuracy: 0.8878 - val_loss: 0.6534 - val_accuracy: 0.9143\n",
            "Epoch 30/30\n",
            "378/378 [==============================] - 1s 2ms/step - loss: 0.6480 - accuracy: 0.9180 - val_loss: 0.6476 - val_accuracy: 0.8952\n"
          ]
        },
        {
          "output_type": "execute_result",
          "data": {
            "text/plain": [
              "<keras.callbacks.History at 0x7f1023976ad0>"
            ]
          },
          "metadata": {},
          "execution_count": 12
        }
      ]
    },
    {
      "cell_type": "code",
      "source": [
        "###Test data"
      ],
      "metadata": {
        "id": "qstkGO3J8_F0"
      },
      "execution_count": null,
      "outputs": []
    },
    {
      "cell_type": "code",
      "source": [
        "X_test, y_test = [], []"
      ],
      "metadata": {
        "id": "fFngrubInD2_"
      },
      "execution_count": null,
      "outputs": []
    },
    {
      "cell_type": "code",
      "source": [
        "for i in range(10):\n",
        "  X_test.append(randint(13, 64))\n",
        "  y_test.append(1)\n",
        "\n",
        "  X_test.append(randint(65, 100))\n",
        "  y_test.append(0)\n"
      ],
      "metadata": {
        "id": "IRsjLB3BnI3Q"
      },
      "execution_count": null,
      "outputs": []
    },
    {
      "cell_type": "code",
      "source": [
        "for i in range(200):\n",
        "  X_test.append(randint(13, 64))\n",
        "  y_test.append(0)\n",
        "\n",
        "  X_test.append(randint(65, 100))\n",
        "  y_test.append(1)\n"
      ],
      "metadata": {
        "id": "DTvIKknjn6Lh"
      },
      "execution_count": null,
      "outputs": []
    },
    {
      "cell_type": "code",
      "source": [
        "X_test, y_test = np.array(X_test), np.array(y_test)\n",
        "\n",
        "X_test, y_test = shuffle(X_test, y_test)"
      ],
      "metadata": {
        "id": "NnAjQ33VoDtE"
      },
      "execution_count": null,
      "outputs": []
    },
    {
      "cell_type": "code",
      "source": [
        "X_test_scaled = scaler.fit_transform(X_test.reshape(-1, 1))"
      ],
      "metadata": {
        "id": "wEV8_EE9oYtv"
      },
      "execution_count": null,
      "outputs": []
    },
    {
      "cell_type": "code",
      "source": [
        "y_pred = model.predict(X_test_scaled, batch_size=10,verbose=0,)"
      ],
      "metadata": {
        "id": "r4rah7sYosRc"
      },
      "execution_count": null,
      "outputs": []
    },
    {
      "cell_type": "code",
      "source": [
        "for i in y_pred:\n",
        "  print(i)"
      ],
      "metadata": {
        "colab": {
          "base_uri": "https://localhost:8080/"
        },
        "id": "3XX-fcSTo8LD",
        "outputId": "34030b78-5bdc-4dc0-f46e-490bc0e7b313"
      },
      "execution_count": null,
      "outputs": [
        {
          "output_type": "stream",
          "name": "stdout",
          "text": [
            "[0.5187046  0.48129538]\n",
            "[0.50972384 0.4902761 ]\n",
            "[0.470983 0.529017]\n",
            "[0.5289372  0.47106278]\n",
            "[0.49695823 0.50304186]\n",
            "[0.44920188 0.5507981 ]\n",
            "[0.4856421 0.5143579]\n",
            "[0.47580388 0.52419615]\n",
            "[0.5390621  0.46093786]\n",
            "[0.4856421 0.5143579]\n",
            "[0.470983 0.529017]\n",
            "[0.50972384 0.4902761 ]\n",
            "[0.52254957 0.47745046]\n",
            "[0.47338453 0.52661544]\n",
            "[0.5302103  0.46978968]\n",
            "[0.44811308 0.5518869 ]\n",
            "[0.5352828  0.46471727]\n",
            "[0.5302103  0.46978968]\n",
            "[0.5538851  0.44611484]\n",
            "[0.46157154 0.5384284 ]\n",
            "[0.45139793 0.54860204]\n",
            "[0.45029682 0.5497031 ]\n",
            "[0.5390621  0.46093786]\n",
            "[0.47580388 0.52419615]\n",
            "[0.44811308 0.5518869 ]\n",
            "[0.48938918 0.51061076]\n",
            "[0.47580388 0.52419615]\n",
            "[0.45699266 0.5430073 ]\n",
            "[0.50588095 0.49411905]\n",
            "[0.5340179 0.4659821]\n",
            "[0.470983 0.529017]\n",
            "[0.4831603 0.5168397]\n",
            "[0.5415676  0.45843238]\n",
            "[0.5390621  0.46093786]\n",
            "[0.44920188 0.5507981 ]\n",
            "[0.54281574 0.4571843 ]\n",
            "[0.45139793 0.54860204]\n",
            "[0.47338453 0.52661544]\n",
            "[0.47824028 0.52175975]\n",
            "[0.49695823 0.50304186]\n",
            "[0.46741608 0.53258395]\n",
            "[0.49695823 0.50304186]\n",
            "[0.4697892 0.5302108]\n",
            "[0.51228905 0.48771098]\n",
            "[0.537805   0.46219498]\n",
            "[0.49822778 0.5017723 ]\n",
            "[0.51228905 0.48771098]\n",
            "[0.46157154 0.5384284 ]\n",
            "[0.5340179 0.4659821]\n",
            "[0.45699266 0.5430073 ]\n",
            "[0.5238296  0.47617042]\n",
            "[0.47580388 0.52419615]\n",
            "[0.5020476 0.4979524]\n",
            "[0.55023086 0.44976923]\n",
            "[0.47946453 0.52053547]\n",
            "[0.50844204 0.49155793]\n",
            "[0.5161387 0.4838613]\n",
            "[0.4831603 0.5168397]\n",
            "[0.51228905 0.48771098]\n",
            "[0.5174218  0.48257822]\n",
            "[0.47459206 0.52540797]\n",
            "[0.45699266 0.5430073 ]\n",
            "[0.48069274 0.5193073 ]\n",
            "[0.50077266 0.49922734]\n",
            "[0.5174218  0.48257822]\n",
            "[0.52510846 0.47489154]\n",
            "[0.50077266 0.49922734]\n",
            "[0.45139793 0.54860204]\n",
            "[0.45586202 0.544138  ]\n",
            "[0.45250508 0.5474949 ]\n",
            "[0.5415676  0.45843238]\n",
            "[0.50972384 0.4902761 ]\n",
            "[0.44811308 0.5518869 ]\n",
            "[0.47580388 0.52419615]\n",
            "[0.4856421 0.5143579]\n",
            "[0.52254957 0.47745046]\n",
            "[0.54031634 0.45968366]\n",
            "[0.5199869  0.48001307]\n",
            "[0.44811308 0.5518869 ]\n",
            "[0.5340179 0.4659821]\n",
            "[0.4994993 0.5005007]\n",
            "[0.45361814 0.54638183]\n",
            "[0.5302103  0.46978968]\n",
            "[0.44920188 0.5507981 ]\n",
            "[0.49316245 0.50683755]\n",
            "[0.45361814 0.54638183]\n",
            "[0.5110062 0.4889938]\n",
            "[0.46041852 0.5395815 ]\n",
            "[0.46157154 0.5384284 ]\n",
            "[0.4856421 0.5143579]\n",
            "[0.5538851  0.44611484]\n",
            "[0.50077266 0.49922734]\n",
            "[0.52766246 0.4723375 ]\n",
            "[0.5440606  0.45593944]\n",
            "[0.46860018 0.5313998 ]\n",
            "[0.46860018 0.5313998 ]\n",
            "[0.55267125 0.4473287 ]\n",
            "[0.4856421 0.5143579]\n",
            "[0.53654516 0.4634548 ]\n",
            "[0.44811308 0.5518869 ]\n",
            "[0.55267125 0.4473287 ]\n",
            "[0.45586202 0.544138  ]\n",
            "[0.45473716 0.5452628 ]\n",
            "[0.48439953 0.5156005 ]\n",
            "[0.46623683 0.5337632 ]\n",
            "[0.547774   0.45222598]\n",
            "[0.44811308 0.5518869 ]\n",
            "[0.5340179 0.4659821]\n",
            "[0.49442536 0.5055746 ]\n",
            "[0.5263862 0.4736139]\n",
            "[0.47824028 0.52175975]\n",
            "[0.5020476 0.4979524]\n",
            "[0.52510846 0.47489154]\n",
            "[0.49190202 0.508098  ]\n",
            "[0.470983 0.529017]\n",
            "[0.5415676  0.45843238]\n",
            "[0.46157154 0.5384284 ]\n",
            "[0.45139793 0.54860204]\n",
            "[0.47701997 0.52298003]\n",
            "[0.46389377 0.5361062 ]\n",
            "[0.5263862 0.4736139]\n",
            "[0.48439953 0.5156005 ]\n",
            "[0.547774   0.45222598]\n",
            "[0.5110062 0.4889938]\n",
            "[0.47459206 0.52540797]\n",
            "[0.50844204 0.49155793]\n",
            "[0.46272996 0.53727   ]\n",
            "[0.49569067 0.50430936]\n",
            "[0.49190202 0.508098  ]\n",
            "[0.45361814 0.54638183]\n",
            "[0.50844204 0.49155793]\n",
            "[0.5289372  0.47106278]\n",
            "[0.49064422 0.5093558 ]\n",
            "[0.45699266 0.5430073 ]\n",
            "[0.5263862 0.4736139]\n",
            "[0.5440606  0.45593944]\n",
            "[0.5187046  0.48129538]\n",
            "[0.47459206 0.52540797]\n",
            "[0.49822778 0.5017723 ]\n",
            "[0.45699266 0.5430073 ]\n",
            "[0.5174218  0.48257822]\n",
            "[0.44920188 0.5507981 ]\n",
            "[0.51485544 0.4851446 ]\n",
            "[0.5161387 0.4838613]\n",
            "[0.44920188 0.5507981 ]\n",
            "[0.46041852 0.5395815 ]\n",
            "[0.45927095 0.540729  ]\n",
            "[0.4650627  0.53493726]\n",
            "[0.49442536 0.5055746 ]\n",
            "[0.5340179 0.4659821]\n",
            "[0.5514531  0.44854683]\n",
            "[0.46041852 0.5395815 ]\n",
            "[0.47580388 0.52419615]\n",
            "[0.44920188 0.5507981 ]\n",
            "[0.48192465 0.5180753 ]\n",
            "[0.547774   0.45222598]\n",
            "[0.45029682 0.5497031 ]\n",
            "[0.44811308 0.5518869 ]\n",
            "[0.45029682 0.5497031 ]\n",
            "[0.47580388 0.52419615]\n",
            "[0.45699266 0.5430073 ]\n",
            "[0.5071611  0.49283892]\n",
            "[0.46389377 0.5361062 ]\n",
            "[0.45812902 0.541871  ]\n",
            "[0.45473716 0.5452628 ]\n",
            "[0.51485544 0.4851446 ]\n",
            "[0.47338453 0.52661544]\n",
            "[0.50972384 0.4902761 ]\n",
            "[0.52510846 0.47489154]\n",
            "[0.50332403 0.4966759 ]\n",
            "[0.54281574 0.4571843 ]\n",
            "[0.50460196 0.49539807]\n",
            "[0.50844204 0.49155793]\n",
            "[0.49569067 0.50430936]\n",
            "[0.5302103  0.46978968]\n",
            "[0.45473716 0.5452628 ]\n",
            "[0.5550945  0.44490552]\n",
            "[0.5174218  0.48257822]\n",
            "[0.470983 0.529017]\n",
            "[0.45139793 0.54860204]\n",
            "[0.547774   0.45222598]\n",
            "[0.50077266 0.49922734]\n",
            "[0.54653984 0.4534602 ]\n",
            "[0.52510846 0.47489154]\n",
            "[0.470983 0.529017]\n",
            "[0.44920188 0.5507981 ]\n",
            "[0.4697892 0.5302108]\n",
            "[0.47218144 0.5278185 ]\n",
            "[0.5550945  0.44490552]\n",
            "[0.47338453 0.52661544]\n",
            "[0.46389377 0.5361062 ]\n",
            "[0.49190202 0.508098  ]\n",
            "[0.46860018 0.5313998 ]\n",
            "[0.45699266 0.5430073 ]\n",
            "[0.47459206 0.52540797]\n",
            "[0.45250508 0.5474949 ]\n",
            "[0.47338453 0.52661544]\n",
            "[0.52510846 0.47489154]\n",
            "[0.47459206 0.52540797]\n",
            "[0.4697892 0.5302108]\n",
            "[0.537805   0.46219498]\n",
            "[0.547774   0.45222598]\n",
            "[0.50972384 0.4902761 ]\n",
            "[0.47946453 0.52053547]\n",
            "[0.48938918 0.51061076]\n",
            "[0.45473716 0.5452628 ]\n",
            "[0.51485544 0.4851446 ]\n",
            "[0.5020476 0.4979524]\n",
            "[0.45029682 0.5497031 ]\n",
            "[0.537805   0.46219498]\n",
            "[0.46157154 0.5384284 ]\n",
            "[0.5490044  0.45099568]\n",
            "[0.4650627  0.53493726]\n",
            "[0.44920188 0.5507981 ]\n",
            "[0.53654516 0.4634548 ]\n",
            "[0.49569067 0.50430936]\n",
            "[0.49064422 0.5093558 ]\n",
            "[0.5020476 0.4979524]\n",
            "[0.47580388 0.52419615]\n",
            "[0.55267125 0.4473287 ]\n",
            "[0.4650627  0.53493726]\n",
            "[0.4831603 0.5168397]\n",
            "[0.48069274 0.5193073 ]\n",
            "[0.4831603 0.5168397]\n",
            "[0.5199869  0.48001307]\n",
            "[0.50972384 0.4902761 ]\n",
            "[0.5440606  0.45593944]\n",
            "[0.49695823 0.50304186]\n",
            "[0.537805   0.46219498]\n",
            "[0.470983 0.529017]\n",
            "[0.5135722  0.48642784]\n",
            "[0.5302103  0.46978968]\n",
            "[0.45812902 0.541871  ]\n",
            "[0.5212686  0.47873133]\n",
            "[0.46623683 0.5337632 ]\n",
            "[0.47338453 0.52661544]\n",
            "[0.46741608 0.53258395]\n",
            "[0.50077266 0.49922734]\n",
            "[0.45699266 0.5430073 ]\n",
            "[0.4881371  0.51186293]\n",
            "[0.5289372  0.47106278]\n",
            "[0.50460196 0.49539807]\n",
            "[0.4650627  0.53493726]\n",
            "[0.46157154 0.5384284 ]\n",
            "[0.48688796 0.51311195]\n",
            "[0.45250508 0.5474949 ]\n",
            "[0.54281574 0.4571843 ]\n",
            "[0.45699266 0.5430073 ]\n",
            "[0.45699266 0.5430073 ]\n",
            "[0.5327507 0.4672492]\n",
            "[0.46157154 0.5384284 ]\n",
            "[0.47824028 0.52175975]\n",
            "[0.50844204 0.49155793]\n",
            "[0.49316245 0.50683755]\n",
            "[0.46389377 0.5361062 ]\n",
            "[0.46157154 0.5384284 ]\n",
            "[0.5514531  0.44854683]\n",
            "[0.46389377 0.5361062 ]\n",
            "[0.4856421 0.5143579]\n",
            "[0.51485544 0.4851446 ]\n",
            "[0.47338453 0.52661544]\n",
            "[0.5187046  0.48129538]\n",
            "[0.537805   0.46219498]\n",
            "[0.47701997 0.52298003]\n",
            "[0.54031634 0.45968366]\n",
            "[0.45699266 0.5430073 ]\n",
            "[0.44920188 0.5507981 ]\n",
            "[0.50588095 0.49411905]\n",
            "[0.4881371  0.51186293]\n",
            "[0.48688796 0.51311195]\n",
            "[0.47946453 0.52053547]\n",
            "[0.45139793 0.54860204]\n",
            "[0.537805   0.46219498]\n",
            "[0.44920188 0.5507981 ]\n",
            "[0.470983 0.529017]\n",
            "[0.5238296  0.47617042]\n",
            "[0.49695823 0.50304186]\n",
            "[0.45473716 0.5452628 ]\n",
            "[0.4881371  0.51186293]\n",
            "[0.5327507 0.4672492]\n",
            "[0.54653984 0.4534602 ]\n",
            "[0.52254957 0.47745046]\n",
            "[0.5174218  0.48257822]\n",
            "[0.49442536 0.5055746 ]\n",
            "[0.49822778 0.5017723 ]\n",
            "[0.46860018 0.5313998 ]\n",
            "[0.45473716 0.5452628 ]\n",
            "[0.53148156 0.46851853]\n",
            "[0.50332403 0.4966759 ]\n",
            "[0.5161387 0.4838613]\n",
            "[0.54031634 0.45968366]\n",
            "[0.470983 0.529017]\n",
            "[0.4994993 0.5005007]\n",
            "[0.47580388 0.52419615]\n",
            "[0.5263862 0.4736139]\n",
            "[0.47338453 0.52661544]\n",
            "[0.50077266 0.49922734]\n",
            "[0.547774   0.45222598]\n",
            "[0.5440606  0.45593944]\n",
            "[0.45361814 0.54638183]\n",
            "[0.49442536 0.5055746 ]\n",
            "[0.45927095 0.540729  ]\n",
            "[0.47580388 0.52419615]\n",
            "[0.48688796 0.51311195]\n",
            "[0.5415676  0.45843238]\n",
            "[0.47218144 0.5278185 ]\n",
            "[0.4831603 0.5168397]\n",
            "[0.4856421 0.5143579]\n",
            "[0.46041852 0.5395815 ]\n",
            "[0.45473716 0.5452628 ]\n",
            "[0.47946453 0.52053547]\n",
            "[0.49064422 0.5093558 ]\n",
            "[0.54031634 0.45968366]\n",
            "[0.50332403 0.4966759 ]\n",
            "[0.47459206 0.52540797]\n",
            "[0.48192465 0.5180753 ]\n",
            "[0.4881371  0.51186293]\n",
            "[0.46860018 0.5313998 ]\n",
            "[0.49442536 0.5055746 ]\n",
            "[0.5415676  0.45843238]\n",
            "[0.48192465 0.5180753 ]\n",
            "[0.5550945  0.44490552]\n",
            "[0.50588095 0.49411905]\n",
            "[0.50460196 0.49539807]\n",
            "[0.46860018 0.5313998 ]\n",
            "[0.51228905 0.48771098]\n",
            "[0.45473716 0.5452628 ]\n",
            "[0.50332403 0.4966759 ]\n",
            "[0.5514531  0.44854683]\n",
            "[0.4650627  0.53493726]\n",
            "[0.47338453 0.52661544]\n",
            "[0.470983 0.529017]\n",
            "[0.45699266 0.5430073 ]\n",
            "[0.49316245 0.50683755]\n",
            "[0.48938918 0.51061076]\n",
            "[0.5327507 0.4672492]\n",
            "[0.5538851  0.44611484]\n",
            "[0.48069274 0.5193073 ]\n",
            "[0.46860018 0.5313998 ]\n",
            "[0.49695823 0.50304186]\n",
            "[0.4831603 0.5168397]\n",
            "[0.5327507 0.4672492]\n",
            "[0.5302103  0.46978968]\n",
            "[0.5327507 0.4672492]\n",
            "[0.4650627  0.53493726]\n",
            "[0.55267125 0.4473287 ]\n",
            "[0.5135722  0.48642784]\n",
            "[0.545302 0.454698]\n",
            "[0.5327507 0.4672492]\n",
            "[0.5071611  0.49283892]\n",
            "[0.5212686  0.47873133]\n",
            "[0.45812902 0.541871  ]\n",
            "[0.45699266 0.5430073 ]\n",
            "[0.45361814 0.54638183]\n",
            "[0.51228905 0.48771098]\n",
            "[0.55023086 0.44976923]\n",
            "[0.45699266 0.5430073 ]\n",
            "[0.52510846 0.47489154]\n",
            "[0.45250508 0.5474949 ]\n",
            "[0.4697892 0.5302108]\n",
            "[0.45812902 0.541871  ]\n",
            "[0.49442536 0.5055746 ]\n",
            "[0.5490044  0.45099568]\n",
            "[0.4994993 0.5005007]\n",
            "[0.5514531  0.44854683]\n",
            "[0.44811308 0.5518869 ]\n",
            "[0.44920188 0.5507981 ]\n",
            "[0.44920188 0.5507981 ]\n",
            "[0.45586202 0.544138  ]\n",
            "[0.45473716 0.5452628 ]\n",
            "[0.47218144 0.5278185 ]\n",
            "[0.50588095 0.49411905]\n",
            "[0.47459206 0.52540797]\n",
            "[0.46041852 0.5395815 ]\n",
            "[0.45361814 0.54638183]\n",
            "[0.50972384 0.4902761 ]\n",
            "[0.45699266 0.5430073 ]\n",
            "[0.545302 0.454698]\n",
            "[0.470983 0.529017]\n",
            "[0.470983 0.529017]\n",
            "[0.5415676  0.45843238]\n",
            "[0.5161387 0.4838613]\n",
            "[0.45361814 0.54638183]\n",
            "[0.5415676  0.45843238]\n",
            "[0.547774   0.45222598]\n",
            "[0.4994993 0.5005007]\n",
            "[0.49190202 0.508098  ]\n",
            "[0.51485544 0.4851446 ]\n",
            "[0.5327507 0.4672492]\n",
            "[0.49569067 0.50430936]\n",
            "[0.47338453 0.52661544]\n",
            "[0.47580388 0.52419615]\n",
            "[0.5340179 0.4659821]\n",
            "[0.537805   0.46219498]\n",
            "[0.48688796 0.51311195]\n",
            "[0.45473716 0.5452628 ]\n",
            "[0.5110062 0.4889938]\n",
            "[0.537805   0.46219498]\n",
            "[0.52510846 0.47489154]\n",
            "[0.45927095 0.540729  ]\n",
            "[0.46389377 0.5361062 ]\n",
            "[0.45361814 0.54638183]\n",
            "[0.5415676  0.45843238]\n",
            "[0.4881371  0.51186293]\n",
            "[0.45927095 0.540729  ]\n",
            "[0.48688796 0.51311195]\n",
            "[0.48688796 0.51311195]\n",
            "[0.54281574 0.4571843 ]\n",
            "[0.5550945  0.44490552]\n",
            "[0.5538851  0.44611484]\n",
            "[0.54281574 0.4571843 ]\n",
            "[0.52254957 0.47745046]\n",
            "[0.4881371  0.51186293]\n",
            "[0.5135722  0.48642784]\n",
            "[0.48069274 0.5193073 ]\n",
            "[0.4994993 0.5005007]\n",
            "[0.46157154 0.5384284 ]\n",
            "[0.52766246 0.4723375 ]\n",
            "[0.44920188 0.5507981 ]\n",
            "[0.537805   0.46219498]\n"
          ]
        }
      ]
    },
    {
      "cell_type": "code",
      "source": [
        "rounded_pred = np.argmax(y_pred, axis=-1)"
      ],
      "metadata": {
        "id": "yYikSZtIo_r9"
      },
      "execution_count": null,
      "outputs": []
    },
    {
      "cell_type": "code",
      "source": [
        "from sklearn.metrics import accuracy_score, confusion_matrix, ConfusionMatrixDisplay"
      ],
      "metadata": {
        "id": "o-BMHB8XpVqG"
      },
      "execution_count": null,
      "outputs": []
    },
    {
      "cell_type": "code",
      "source": [
        "acc = accuracy_score(y_test, rounded_pred)"
      ],
      "metadata": {
        "id": "u2iOREUtpqzo"
      },
      "execution_count": null,
      "outputs": []
    },
    {
      "cell_type": "code",
      "source": [
        "acc"
      ],
      "metadata": {
        "colab": {
          "base_uri": "https://localhost:8080/"
        },
        "id": "JHvhoc4Cp1wa",
        "outputId": "5c7f3e26-b511-4661-f77f-ed5f74a763d6"
      },
      "execution_count": null,
      "outputs": [
        {
          "output_type": "execute_result",
          "data": {
            "text/plain": [
              "0.8761904761904762"
            ]
          },
          "metadata": {},
          "execution_count": 24
        }
      ]
    },
    {
      "cell_type": "code",
      "source": [
        "conf_mat = confusion_matrix(y_test, rounded_pred)"
      ],
      "metadata": {
        "id": "cSN5pp35qBPM"
      },
      "execution_count": null,
      "outputs": []
    },
    {
      "cell_type": "code",
      "source": [
        "conf_mat"
      ],
      "metadata": {
        "colab": {
          "base_uri": "https://localhost:8080/"
        },
        "id": "ECl_bRMfqtOk",
        "outputId": "b4236f59-c744-4d55-d03a-7e3b4b8e20c0"
      },
      "execution_count": null,
      "outputs": [
        {
          "output_type": "execute_result",
          "data": {
            "text/plain": [
              "array([[167,  43],\n",
              "       [  9, 201]])"
            ]
          },
          "metadata": {},
          "execution_count": 26
        }
      ]
    },
    {
      "cell_type": "code",
      "source": [
        "cmd = ConfusionMatrixDisplay(conf_mat)"
      ],
      "metadata": {
        "id": "Jf4I68T1qyVE"
      },
      "execution_count": null,
      "outputs": []
    },
    {
      "cell_type": "code",
      "source": [
        "cmd.plot()"
      ],
      "metadata": {
        "colab": {
          "base_uri": "https://localhost:8080/",
          "height": 300
        },
        "id": "9-tOWuAGs-53",
        "outputId": "65290d4d-e063-48d1-dea3-16eea5615dd3"
      },
      "execution_count": null,
      "outputs": [
        {
          "output_type": "execute_result",
          "data": {
            "text/plain": [
              "<sklearn.metrics._plot.confusion_matrix.ConfusionMatrixDisplay at 0x7f10236edd10>"
            ]
          },
          "metadata": {},
          "execution_count": 28
        },
        {
          "output_type": "display_data",
          "data": {
            "text/plain": [
              "<Figure size 432x288 with 2 Axes>"
            ],
            "image/png": "[encoded data removed]"
          },
          "metadata": {
            "needs_background": "light"
          }
        }
      ]
    },
    {
      "cell_type": "code",
      "source": [
        "model.optimizer"
      ],
      "metadata": {
        "colab": {
          "base_uri": "https://localhost:8080/"
        },
        "id": "w7yMXGJRtbgS",
        "outputId": "e5db8a41-dbd7-4d35-c819-4f9ff1c1d900"
      },
      "execution_count": null,
      "outputs": [
        {
          "output_type": "execute_result",
          "data": {
            "text/plain": [
              "<keras.optimizer_v2.adam.Adam at 0x7f1027727750>"
            ]
          },
          "metadata": {},
          "execution_count": 29
        }
      ]
    },
    {
      "cell_type": "code",
      "source": [],
      "metadata": {
        "id": "FMtcaw9_wmuq"
      },
      "execution_count": null,
      "outputs": []
    }
  ]
}